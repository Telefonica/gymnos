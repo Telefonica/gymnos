{
 "cells": [
  {
   "cell_type": "markdown",
   "id": "3c0cb54d-7aa7-4901-bdd8-2f4e7adb539e",
   "metadata": {
    "tags": []
   },
   "source": [
    "## Imports"
   ]
  },
  {
   "cell_type": "code",
   "execution_count": 1,
   "id": "89305bfd-db10-4209-9af1-b1b25c965c75",
   "metadata": {},
   "outputs": [],
   "source": [
    "import pandas as pd\n",
    "import tensorflow\n",
    "\n",
    "import matplotlib.pyplot as plt\n",
    "\n",
    "from sklearn.model_selection import train_test_split\n",
    "\n",
    "from keras.models import Sequential\n",
    "from keras.layers import Dense"
   ]
  },
  {
   "cell_type": "markdown",
   "id": "217d45e4-1209-4ee2-a31d-d9b16b57e5ff",
   "metadata": {},
   "source": [
    "## Get database"
   ]
  },
  {
   "cell_type": "code",
   "execution_count": 2,
   "id": "0693d830-b79b-4c43-ae08-55d89f597fc8",
   "metadata": {
    "tags": []
   },
   "outputs": [
    {
     "data": {
      "text/html": [
       "<div>\n",
       "<style scoped>\n",
       "    .dataframe tbody tr th:only-of-type {\n",
       "        vertical-align: middle;\n",
       "    }\n",
       "\n",
       "    .dataframe tbody tr th {\n",
       "        vertical-align: top;\n",
       "    }\n",
       "\n",
       "    .dataframe thead th {\n",
       "        text-align: right;\n",
       "    }\n",
       "</style>\n",
       "<table border=\"1\" class=\"dataframe\">\n",
       "  <thead>\n",
       "    <tr style=\"text-align: right;\">\n",
       "      <th></th>\n",
       "      <th>in</th>\n",
       "      <th>1</th>\n",
       "      <th>2</th>\n",
       "      <th>3</th>\n",
       "      <th>4</th>\n",
       "    </tr>\n",
       "  </thead>\n",
       "  <tbody>\n",
       "    <tr>\n",
       "      <th>0</th>\n",
       "      <td>0.246</td>\n",
       "      <td>0</td>\n",
       "      <td>0</td>\n",
       "      <td>0</td>\n",
       "      <td>0</td>\n",
       "    </tr>\n",
       "    <tr>\n",
       "      <th>1</th>\n",
       "      <td>0.244</td>\n",
       "      <td>0</td>\n",
       "      <td>0</td>\n",
       "      <td>0</td>\n",
       "      <td>0</td>\n",
       "    </tr>\n",
       "    <tr>\n",
       "      <th>2</th>\n",
       "      <td>0.245</td>\n",
       "      <td>0</td>\n",
       "      <td>0</td>\n",
       "      <td>0</td>\n",
       "      <td>0</td>\n",
       "    </tr>\n",
       "    <tr>\n",
       "      <th>3</th>\n",
       "      <td>0.244</td>\n",
       "      <td>0</td>\n",
       "      <td>0</td>\n",
       "      <td>0</td>\n",
       "      <td>0</td>\n",
       "    </tr>\n",
       "    <tr>\n",
       "      <th>4</th>\n",
       "      <td>0.246</td>\n",
       "      <td>0</td>\n",
       "      <td>0</td>\n",
       "      <td>0</td>\n",
       "      <td>0</td>\n",
       "    </tr>\n",
       "    <tr>\n",
       "      <th>...</th>\n",
       "      <td>...</td>\n",
       "      <td>...</td>\n",
       "      <td>...</td>\n",
       "      <td>...</td>\n",
       "      <td>...</td>\n",
       "    </tr>\n",
       "    <tr>\n",
       "      <th>555</th>\n",
       "      <td>0.244</td>\n",
       "      <td>0</td>\n",
       "      <td>0</td>\n",
       "      <td>0</td>\n",
       "      <td>0</td>\n",
       "    </tr>\n",
       "    <tr>\n",
       "      <th>556</th>\n",
       "      <td>0.245</td>\n",
       "      <td>0</td>\n",
       "      <td>0</td>\n",
       "      <td>0</td>\n",
       "      <td>0</td>\n",
       "    </tr>\n",
       "    <tr>\n",
       "      <th>557</th>\n",
       "      <td>0.246</td>\n",
       "      <td>0</td>\n",
       "      <td>0</td>\n",
       "      <td>0</td>\n",
       "      <td>0</td>\n",
       "    </tr>\n",
       "    <tr>\n",
       "      <th>558</th>\n",
       "      <td>0.244</td>\n",
       "      <td>0</td>\n",
       "      <td>0</td>\n",
       "      <td>0</td>\n",
       "      <td>0</td>\n",
       "    </tr>\n",
       "    <tr>\n",
       "      <th>559</th>\n",
       "      <td>0.245</td>\n",
       "      <td>0</td>\n",
       "      <td>0</td>\n",
       "      <td>0</td>\n",
       "      <td>0</td>\n",
       "    </tr>\n",
       "  </tbody>\n",
       "</table>\n",
       "<p>560 rows × 5 columns</p>\n",
       "</div>"
      ],
      "text/plain": [
       "        in   1   2   3   4\n",
       "0    0.246   0   0   0   0\n",
       "1    0.244   0   0   0   0\n",
       "2    0.245   0   0   0   0\n",
       "3    0.244   0   0   0   0\n",
       "4    0.246   0   0   0   0\n",
       "..     ...  ..  ..  ..  ..\n",
       "555  0.244   0   0   0   0\n",
       "556  0.245   0   0   0   0\n",
       "557  0.246   0   0   0   0\n",
       "558  0.244   0   0   0   0\n",
       "559  0.245   0   0   0   0\n",
       "\n",
       "[560 rows x 5 columns]"
      ]
     },
     "metadata": {},
     "output_type": "display_data"
    }
   ],
   "source": [
    "with open(\"database2.csv\") as db:\n",
    "    df = pd.read_csv(db)\n",
    "\n",
    "# Normalize data\n",
    "df_min_max_scaled = df.copy()\n",
    "#df_min_max_scaled[\"in\"] = (df_min_max_scaled[\"in\"] - df_min_max_scaled[\"in\"].min()) / (df_min_max_scaled[\"in\"].max() - df_min_max_scaled[\"in\"].min())    \n",
    "  \n",
    "# view normalized data\n",
    "display(df_min_max_scaled)\n",
    "    \n",
    "# Separate data from the labels\n",
    "Y = df_min_max_scaled.iloc[:, 1:]\n",
    "X = df_min_max_scaled.iloc[:, 0]\n",
    "\n",
    "# Split the data into train and test set\n",
    "X_train, X_test, Y_train, Y_test = train_test_split(X, Y, test_size=0.3, random_state=3)"
   ]
  },
  {
   "cell_type": "markdown",
   "id": "be7f1237-1e82-441a-b3ca-8ca31bd3c7bf",
   "metadata": {},
   "source": [
    "## Time to plot!"
   ]
  },
  {
   "cell_type": "markdown",
   "id": "336f5219-96fc-49c7-bec7-beb317fc0919",
   "metadata": {},
   "source": [
    "Clean everything, stacked bars graph reference: https://towardsdatascience.com/stacked-bar-charts-with-pythons-matplotlib-f4020e4eb4a7"
   ]
  },
  {
   "cell_type": "code",
   "execution_count": 3,
   "id": "14f2579d-e38d-4f76-9a38-bb20054ab297",
   "metadata": {
    "tags": []
   },
   "outputs": [
    {
     "data": {
      "text/plain": [
       "Text(0, 0.5, 'Corriente (A)')"
      ]
     },
     "execution_count": 3,
     "metadata": {},
     "output_type": "execute_result"
    },
    {
     "data": {
      "image/png": "[encoded data removed]",
      "text/plain": [
       "<Figure size 432x288 with 1 Axes>"
      ]
     },
     "metadata": {
      "needs_background": "light"
     },
     "output_type": "display_data"
    }
   ],
   "source": [
    "time = range(len(X))\n",
    "consumption = list(X)\n",
    "\n",
    "plt.plot(time, consumption)\n",
    "plt.xlabel('Muestras')\n",
    "plt.ylabel('Corriente (A)')"
   ]
  },
  {
   "cell_type": "code",
   "execution_count": 4,
   "id": "576e81e1-346b-46b4-9ab9-f12b55910a10",
   "metadata": {
    "tags": []
   },
   "outputs": [
    {
     "data": {
      "text/plain": [
       "Text(0, 0.5, 'Nº Dispositivos')"
      ]
     },
     "execution_count": 4,
     "metadata": {},
     "output_type": "execute_result"
    },
    {
     "data": {
      "image/png": "[encoded data removed]",
      "text/plain": [
       "<Figure size 432x288 with 1 Axes>"
      ]
     },
     "metadata": {
      "needs_background": "light"
     },
     "output_type": "display_data"
    }
   ],
   "source": [
    "time = range(len(X))\n",
    "n_devices = list(Y.sum(axis=1))\n",
    "\n",
    "colors = [\"#004c6d\", \"#3d708f\", \"#6996b3\", \"#94bed9\", \"#c1e7ff\"]\n",
    "bottom = [0] * len(X)\n",
    "for i in range(4):\n",
    "    # print(X.iloc[:,i])\n",
    "    plt.bar(time, Y.iloc[:,i], width=2.0, bottom=bottom, color=colors[i])\n",
    "    bottom += Y.iloc[:,i]\n",
    "\n",
    "plt.xlabel('Muestras')\n",
    "plt.ylabel('Nº Dispositivos')"
   ]
  },
  {
   "cell_type": "markdown",
   "id": "33f05f4b-01d9-4487-9cb9-544a607cc4a6",
   "metadata": {},
   "source": [
    "## Building the model\n",
    "\n",
    "https://www.machinecurve.com/index.php/2020/11/16/creating-a-multilabel-neural-network-classifier-with-tensorflow-and-keras/"
   ]
  },
  {
   "cell_type": "code",
   "execution_count": 5,
   "id": "6d9e0c9d-314e-42e4-a701-e9faee7541ad",
   "metadata": {},
   "outputs": [
    {
     "name": "stdout",
     "output_type": "stream",
     "text": [
      "Model: \"sequential\"\n",
      "_________________________________________________________________\n",
      "Layer (type)                 Output Shape              Param #   \n",
      "=================================================================\n",
      "dense_1 (Dense)              (None, 64)                128       \n",
      "_________________________________________________________________\n",
      "dense_2 (Dense)              (None, 32)                2080      \n",
      "_________________________________________________________________\n",
      "dense_3 (Dense)              (None, 16)                528       \n",
      "_________________________________________________________________\n",
      "dense_4 (Dense)              (None, 8)                 136       \n",
      "_________________________________________________________________\n",
      "dense_5 (Dense)              (None, 8)                 72        \n",
      "_________________________________________________________________\n",
      "dense_output (Dense)         (None, 4)                 36        \n",
      "=================================================================\n",
      "Total params: 2,980\n",
      "Trainable params: 2,980\n",
      "Non-trainable params: 0\n",
      "_________________________________________________________________\n"
     ]
    }
   ],
   "source": [
    "model = Sequential()\n",
    "\n",
    "model.add(Dense(64, input_shape=(1, ), activation='relu', name='dense_1'))\n",
    "model.add(Dense(32, activation='relu', name='dense_2'))\n",
    "model.add(Dense(16, activation='relu', name='dense_3'))\n",
    "model.add(Dense(8, activation='relu', name='dense_4'))\n",
    "model.add(Dense(8, activation='relu', name='dense_5'))\n",
    "model.add(Dense(4, activation='linear', name='dense_output'))\n",
    "\n",
    "model.compile(loss='binary_crossentropy', optimizer='adam', metrics=['accuracy'])\n",
    "model.summary()"
   ]
  },
  {
   "cell_type": "code",
   "execution_count": 6,
   "id": "34708c70-dc47-4d4c-aa55-74793f3c8f49",
   "metadata": {},
   "outputs": [],
   "source": [
    "import tensorflow.random\n",
    "tensorflow.random.set_seed(2)\n",
    "\n",
    "history = model.fit(X_train, Y_train, epochs=100, validation_split=0.05, verbose=0)"
   ]
  },
  {
   "cell_type": "code",
   "execution_count": 7,
   "id": "3fad97c9-981b-4abf-9469-85405de3527f",
   "metadata": {},
   "outputs": [
    {
     "data": {
      "text/plain": [
       "Text(0, 0.5, 'Nº Devices')"
      ]
     },
     "execution_count": 7,
     "metadata": {},
     "output_type": "execute_result"
    },
    {
     "data": {
      "image/png": "[encoded data removed]",
      "text/plain": [
       "<Figure size 432x288 with 1 Axes>"
      ]
     },
     "metadata": {
      "needs_background": "light"
     },
     "output_type": "display_data"
    }
   ],
   "source": [
    "predicted_Y_np = model.predict(X)\n",
    "a = predicted_Y_np.clip(min=0, max=1)\n",
    "predicted_Y = pd.DataFrame(data=a)\n",
    "time = range(len(X))\n",
    "n_devices = list(predicted_Y.sum(axis=1))\n",
    "\n",
    "colors = [\"#004c6d\", \"#3d708f\", \"#6996b3\", \"#94bed9\", \"#c1e7ff\"]\n",
    "bottom = [0] * len(X)\n",
    "for i in range(4):\n",
    "    plt.bar(time, predicted_Y.iloc[:,i], width=2.0, bottom=bottom, color=colors[i])\n",
    "    bottom += predicted_Y.iloc[:,i]\n",
    "\n",
    "plt.xlabel('Time')\n",
    "plt.ylabel('Nº Devices')"
   ]
  },
  {
   "attachments": {
    "cd668b43-4382-4ae1-9a67-f86592695ba4.jpeg": {
     "image/jpeg": "[encoded data removed]"
    }
   },
   "cell_type": "markdown",
   "id": "5430eb3f-5246-48cd-aa7b-61fa9a77e4c6",
   "metadata": {},
   "source": [
    "![111.jpeg](attachment:cd668b43-4382-4ae1-9a67-f86592695ba4.jpeg)"
   ]
  },
  {
   "cell_type": "code",
   "execution_count": null,
   "id": "4703c19c-8291-4874-8b86-1c036430ad03",
   "metadata": {},
   "outputs": [],
   "source": []
  }
 ],
 "metadata": {
  "kernelspec": {
   "display_name": "Python 3",
   "language": "python",
   "name": "python3"
  },
  "language_info": {
   "codemirror_mode": {
    "name": "ipython",
    "version": 3
   },
   "file_extension": ".py",
   "mimetype": "text/x-python",
   "name": "python",
   "nbconvert_exporter": "python",
   "pygments_lexer": "ipython3",
   "version": "3.6.9"
  }
 },
 "nbformat": 4,
 "nbformat_minor": 5
}
